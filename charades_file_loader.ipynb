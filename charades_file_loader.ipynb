{
 "cells": [
  {
   "cell_type": "code",
   "execution_count": null,
   "metadata": {},
   "outputs": [],
   "source": []
  },
  {
   "cell_type": "markdown",
   "metadata": {},
   "source": [
    "# importing the train GT annotation csv file"
   ]
  },
  {
   "cell_type": "code",
   "execution_count": 42,
   "metadata": {},
   "outputs": [],
   "source": [
    "charades_csv_pth = '/workspace/gt/Charades_v1_train.csv'"
   ]
  },
  {
   "cell_type": "code",
   "execution_count": 43,
   "metadata": {},
   "outputs": [],
   "source": [
    "# original gt train keys\n",
    "with open('gt/charades_sta_train_origin.txt', 'r') as f:\n",
    "    gta = f.readlines()"
   ]
  },
  {
   "cell_type": "code",
   "execution_count": 44,
   "metadata": {},
   "outputs": [],
   "source": [
    "train_keys_gt = set()\n",
    "mapper = {}\n",
    "for l in sorted(gta):\n",
    "    v_id = l.split('##')[0].split(' ')[0]\n",
    "    if v_id in train_keys_gt:\n",
    "        tmp = mapper[v_id]\n",
    "        tmp.append([float(l.split('##')[0].split(' ')[1]), float(l.split('##')[0].split(' ')[2])])\n",
    "        mapper[v_id] = tmp\n",
    "    else:\n",
    "        mapper[v_id] = [[float(l.split('##')[0].split(' ')[1]), float(l.split('##')[0].split(' ')[2])]]\n",
    "    train_keys_gt.add(v_id)\n",
    "\n",
    "\n",
    "        "
   ]
  },
  {
   "cell_type": "code",
   "execution_count": null,
   "metadata": {},
   "outputs": [],
   "source": []
  },
  {
   "cell_type": "code",
   "execution_count": 36,
   "metadata": {},
   "outputs": [],
   "source": [
    "with open(charades_csv_pth, 'r') as f:\n",
    "    gtf = f.readlines()"
   ]
  },
  {
   "cell_type": "code",
   "execution_count": 51,
   "metadata": {},
   "outputs": [],
   "source": [
    "dic_file = {'version' : 'charades_sta', 'database':{}}\n",
    "for idx, line_ in enumerate(gtf[:30]):\n",
    "    if idx == 0:\n",
    "        continue\n",
    "    v_id = line_.split(',')[0]\n",
    "    label = line_.split(',')[2]\n",
    "    if v_id in train_keys_gt:\n",
    "        length = line_.split(',')[-1].strip()\n",
    "        subset = 'training'\n",
    "        segments = mapper[v_id]\n",
    "        tmpk = []\n",
    "        for seg in segments:\n",
    "            tmpk.append({'segment':seg, 'label':label})\n",
    "\n",
    "        dic_file['database'][v_id] = {'duration':float(length), 'subset' : subset, 'annotations':tmpk}\n",
    "\n",
    "    "
   ]
  },
  {
   "cell_type": "code",
   "execution_count": 52,
   "metadata": {},
   "outputs": [
    {
     "data": {
      "text/plain": [
       "{'version': 'charades_sta',\n",
       " 'database': {'46GP8': {'duration': 24.83,\n",
       "   'subset': 'training',\n",
       "   'annotations': [{'segment': [11.9, 21.2], 'label': 'Kitchen'},\n",
       "    {'segment': [11.9, 21.2], 'label': 'Kitchen'}]},\n",
       "  'KRF68': {'duration': 30.33,\n",
       "   'subset': 'training',\n",
       "   'annotations': [{'segment': [0.0, 9.9], 'label': 'Laundry room'},\n",
       "    {'segment': [0.0, 9.9], 'label': 'Laundry room'},\n",
       "    {'segment': [10.3, 25.0], 'label': 'Laundry room'},\n",
       "    {'segment': [4.2, 10.9], 'label': 'Laundry room'}]},\n",
       "  '7HVU8': {'duration': 29.62,\n",
       "   'subset': 'training',\n",
       "   'annotations': [{'segment': [0.0, 10.0], 'label': 'Hallway'}]},\n",
       "  'MCQO5': {'duration': 31.58,\n",
       "   'subset': 'training',\n",
       "   'annotations': [{'segment': [29.6, 33.0], 'label': 'Bedroom'},\n",
       "    {'segment': [29.6, 33.0], 'label': 'Bedroom'},\n",
       "    {'segment': [4.2, 13.4], 'label': 'Bedroom'}]},\n",
       "  '8WJIR': {'duration': 34.71,\n",
       "   'subset': 'training',\n",
       "   'annotations': [{'segment': [0.6, 11.2], 'label': 'Bedroom'},\n",
       "    {'segment': [0.6, 11.2], 'label': 'Bedroom'},\n",
       "    {'segment': [10.2, 21.3], 'label': 'Bedroom'},\n",
       "    {'segment': [12.9, 23.5], 'label': 'Bedroom'},\n",
       "    {'segment': [7.4, 17.6], 'label': 'Bedroom'},\n",
       "    {'segment': [7.4, 17.6], 'label': 'Bedroom'}]},\n",
       "  'INQNU': {'duration': 18.46,\n",
       "   'subset': 'training',\n",
       "   'annotations': [{'segment': [9.2, 14.8], 'label': 'Bedroom'},\n",
       "    {'segment': [9.2, 14.8], 'label': 'Bedroom'}]},\n",
       "  'LI6LV': {'duration': 34.71,\n",
       "   'subset': 'training',\n",
       "   'annotations': [{'segment': [0.0, 6.7], 'label': 'Bathroom'},\n",
       "    {'segment': [2.7, 15.2], 'label': 'Bathroom'}]},\n",
       "  'I8QJN': {'duration': 30.92,\n",
       "   'subset': 'training',\n",
       "   'annotations': [{'segment': [0.0, 11.3], 'label': 'Kitchen'},\n",
       "    {'segment': [21.5, 30.2], 'label': 'Kitchen'},\n",
       "    {'segment': [6.8, 12.7], 'label': 'Kitchen'},\n",
       "    {'segment': [6.8, 12.7], 'label': 'Kitchen'}]},\n",
       "  'XC9EY': {'duration': 25.29,\n",
       "   'subset': 'training',\n",
       "   'annotations': [{'segment': [15.9, 21.5], 'label': 'Hallway'},\n",
       "    {'segment': [15.9, 21.5], 'label': 'Hallway'}]},\n",
       "  'DOQ9Y': {'duration': 41.29,\n",
       "   'subset': 'training',\n",
       "   'annotations': [{'segment': [0.0, 15.1], 'label': 'Pantry'},\n",
       "    {'segment': [34.0, 40.9], 'label': 'Pantry'},\n",
       "    {'segment': [34.0, 40.9], 'label': 'Pantry'}]},\n",
       "  'QGQGZ': {'duration': 32.92,\n",
       "   'subset': 'training',\n",
       "   'annotations': [{'segment': [0.0, 9.4], 'label': 'Kitchen'},\n",
       "    {'segment': [1.0, 9.6], 'label': 'Kitchen'},\n",
       "    {'segment': [10.4, 15.0], 'label': 'Kitchen'},\n",
       "    {'segment': [10.4, 15.0], 'label': 'Kitchen'}]},\n",
       "  '5S1WQ': {'duration': 31.46,\n",
       "   'subset': 'training',\n",
       "   'annotations': [{'segment': [0.0, 2.6], 'label': 'Dining room'}]},\n",
       "  '72JYK': {'duration': 23.12,\n",
       "   'subset': 'training',\n",
       "   'annotations': [{'segment': [6.7, 12.0], 'label': 'Stairs'}]},\n",
       "  'BDFDE': {'duration': 31.54,\n",
       "   'subset': 'training',\n",
       "   'annotations': [{'segment': [17.3, 28.9], 'label': 'Bedroom'},\n",
       "    {'segment': [17.3, 28.9], 'label': 'Bedroom'}]},\n",
       "  'OBTP8': {'duration': 31.08,\n",
       "   'subset': 'training',\n",
       "   'annotations': [{'segment': [3.5, 11.8], 'label': 'Bedroom'},\n",
       "    {'segment': [3.5, 11.8], 'label': 'Bedroom'}]},\n",
       "  '4021N': {'duration': 30.33,\n",
       "   'subset': 'training',\n",
       "   'annotations': [{'segment': [24.0, 28.7], 'label': 'Laundry room'}]},\n",
       "  'ZSHWE': {'duration': 30.75,\n",
       "   'subset': 'training',\n",
       "   'annotations': [{'segment': [15.2, 28.2], 'label': 'Stairs'},\n",
       "    {'segment': [15.2, 28.2], 'label': 'Stairs'}]},\n",
       "  'SFDTP': {'duration': 30.5,\n",
       "   'subset': 'training',\n",
       "   'annotations': [{'segment': [14.8, 22.3],\n",
       "     'label': 'Entryway (A hall that is generally located at the entrance of a house)'}]}}}"
      ]
     },
     "execution_count": 52,
     "metadata": {},
     "output_type": "execute_result"
    }
   ],
   "source": [
    "\n",
    "dic_file"
   ]
  },
  {
   "cell_type": "code",
   "execution_count": 53,
   "metadata": {},
   "outputs": [],
   "source": [
    "import json\n",
    "with open('gt/charades_gt_anno_keys_only_training_30.json', 'w') as f:\n",
    "    json.dump(dic_file, f)"
   ]
  },
  {
   "cell_type": "code",
   "execution_count": null,
   "metadata": {},
   "outputs": [],
   "source": []
  }
 ],
 "metadata": {
  "interpreter": {
   "hash": "d4d1e4263499bec80672ea0156c357c1ee493ec2b1c70f0acce89fc37c4a6abe"
  },
  "kernelspec": {
   "display_name": "Python 3.7.10 ('base')",
   "language": "python",
   "name": "python3"
  },
  "language_info": {
   "codemirror_mode": {
    "name": "ipython",
    "version": 3
   },
   "file_extension": ".py",
   "mimetype": "text/x-python",
   "name": "python",
   "nbconvert_exporter": "python",
   "pygments_lexer": "ipython3",
   "version": "3.7.10"
  },
  "orig_nbformat": 4
 },
 "nbformat": 4,
 "nbformat_minor": 2
}
